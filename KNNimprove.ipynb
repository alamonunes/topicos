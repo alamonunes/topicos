{
  "nbformat": 4,
  "nbformat_minor": 0,
  "metadata": {
    "colab": {
      "name": "KNNimprove.ipynb",
      "provenance": [],
      "collapsed_sections": [],
      "include_colab_link": true
    },
    "kernelspec": {
      "name": "python3",
      "display_name": "Python 3"
    }
  },
  "cells": [
    {
      "cell_type": "markdown",
      "metadata": {
        "id": "view-in-github",
        "colab_type": "text"
      },
      "source": [
        "<a href=\"https://colab.research.google.com/github/alamonunes/topicos/blob/main/KNNimprove.ipynb\" target=\"_parent\"><img src=\"https://colab.research.google.com/assets/colab-badge.svg\" alt=\"Open In Colab\"/></a>"
      ]
    },
    {
      "cell_type": "code",
      "metadata": {
        "id": "4hvx1z7iLvpo"
      },
      "source": [
        "from sklearn.model_selection import train_test_split\n",
        "from sklearn import metrics\n",
        "import pandas as pd\n",
        "from sklearn.neighbors import KNeighborsClassifier\n",
        "import math\n",
        "from collections import Counter\n",
        "import numpy\n",
        "\n",
        "url = \"https://raw.githubusercontent.com/alamonunes/topicos/main/transfusion.data\"\n",
        "#url = \"https://raw.githubusercontent.com/alamonunes/topicos/main/wine.data\"\n",
        "\n",
        "# TRANSFUSION\n",
        "col_names = ['x1', 'x2', 'x3', 'x4', 'label']\n",
        "feature_cols = ['x1', 'x2', 'x3', 'x4']\n",
        "\n",
        "#WINE\n",
        "#col_names = ['label','x1', 'x2', 'x3', 'x4', 'x5', 'x6', 'x7', 'x8', 'x9', 'x10', 'x11', 'x12', 'x13']\n",
        "#feature_cols = ['x1', 'x2', 'x3', 'x4', 'x5', 'x6', 'x7', 'x8', 'x9', 'x10', 'x11', 'x12', 'x13']\n",
        "\n",
        "# Carregar base de dados\n",
        "dataset = pd.read_csv(url, header=None, names=col_names)\n",
        "\n",
        "X = dataset[feature_cols] # Atributos (Features)\n",
        "y = dataset.label # Saída"
      ],
      "execution_count": 5,
      "outputs": []
    },
    {
      "cell_type": "code",
      "metadata": {
        "id": "QBkONKEVv18C"
      },
      "source": [
        "X_train, X_test, y_train, y_test = train_test_split(X, y, test_size=0.2, random_state=None, stratify=y) # 80% treino e 20% teste\n",
        "\n",
        "#K = 4   # Quantidade de vizinhos mais próximos\n",
        "K = 8\n",
        "#K = 13\n",
        "\n",
        "### Tranforma os dados em listas\n",
        "\n",
        "train_x = X_train.values.tolist()\n",
        "train_y = y_train.values.tolist()\n",
        "\n",
        "test_x = X_test.values.tolist()\n",
        "test_y = y_test.values.tolist()"
      ],
      "execution_count": 6,
      "outputs": []
    },
    {
      "cell_type": "code",
      "metadata": {
        "id": "JCV23zcUv9YO"
      },
      "source": [
        "###############\n",
        "#\n",
        "# KNN Improve\n",
        "#\n",
        "###############\n",
        "def calcular_raios(train_x, train_y):\n",
        "  e = 1e-20\n",
        "  raios = []\n",
        "\n",
        "  for i in range(len(train_x)):\n",
        "    newData = train_x.copy()\n",
        "    newData.pop(i)\n",
        "    newData_y = train_y.copy()\n",
        "    newData_y.pop(i)\n",
        "\n",
        "    results = []\n",
        "\n",
        "    for j in range(len(newData)):\n",
        "      r = 0\n",
        "      \n",
        "      for k in range(len(train_x[i])):\n",
        "        r += (train_x[i][k] - newData[j][k]) ** 2 # Distância Euclidiana\n",
        "  \n",
        "      results.append(math.sqrt(r))\n",
        "    \n",
        "    indexes = numpy.argsort(results) # retorna os índices ordenados\n",
        "\n",
        "    aux = 0\n",
        "    while train_y[i] == newData_y[indexes[aux]]:\n",
        "      aux += 1\n",
        "    \n",
        "    raios.append(results[indexes[aux]] - e)\n",
        "\n",
        "  return raios\n",
        "\n",
        "def knn_improve(train_x, train_y, test, k, raios):\n",
        "  results = []\n",
        "  \n",
        "  for i in range(len(train_x)):\n",
        "    r = 0\n",
        "    \n",
        "    for j in range(len(test)):\n",
        "      r += (test[j] - train_x[i][j]) ** 2 # Distância Euclidiana\n",
        "    \n",
        "    results.append(math.sqrt(r)/raios[i]) # Distância Euclidiana / Raio\n",
        "    \n",
        "  indexes = numpy.argsort(results) # retorna os índices ordenados\n",
        "  \n",
        "  indexes = indexes[0:k] # Pega os k índices mais próximos\n",
        "  \n",
        "  res = [train_y[i] for i in indexes] # Retorna a classe de cada um dos vizinhos\n",
        "  \n",
        "  final = Counter(res)\n",
        "\n",
        "  return final.most_common(1)[0][0] # retorna a classe com maior frequência"
      ],
      "execution_count": 7,
      "outputs": []
    },
    {
      "cell_type": "code",
      "metadata": {
        "id": "NlHvHpbmv4Xc",
        "outputId": "f1d00112-cde5-4585-832b-8307828de191",
        "colab": {
          "base_uri": "https://localhost:8080/",
          "height": 88
        }
      },
      "source": [
        "resultKNN_improve = []\n",
        "\n",
        "raios = calcular_raios(train_x, train_y)\n",
        "\n",
        "for i in range(len(test_x)):\n",
        "  \n",
        "  classeI = knn_improve(train_x, train_y, test_x[i], K, raios)\n",
        "  resultKNN_improve.append(classeI)\n",
        "\n",
        "acc = metrics.accuracy_score(resultKNN_improve, test_y)\n",
        "show = round(acc * 100)\n",
        "print(\"{}%\".format(show))\n",
        "\n",
        "print(resultKNN_improve)\n",
        "print(test_y)"
      ],
      "execution_count": 8,
      "outputs": [
        {
          "output_type": "stream",
          "text": [
            "69.0%\n",
            "[1, 0, 0, 1, 0, 0, 0, 0, 1, 1, 0, 0, 0, 0, 0, 0, 1, 0, 0, 0, 0, 0, 0, 0, 0, 0, 0, 0, 0, 1, 0, 0, 0, 0, 0, 0, 0, 0, 0, 0, 0, 0, 0, 0, 0, 0, 0, 0, 0, 0, 0, 0, 0, 0, 0, 0, 0, 0, 0, 0, 0, 0, 0, 0, 0, 0, 0, 0, 0, 0, 0, 0, 1, 0, 0, 0, 0, 1, 0, 0, 0, 0, 0, 0, 0, 0, 0, 0, 0, 0, 0, 0, 0, 0, 0, 0, 0, 0, 0, 0, 0, 0, 0, 0, 0, 0, 0, 0, 0, 0, 0, 0, 0, 0, 0, 0, 0, 0, 0, 0, 0, 0, 0, 0, 0, 0, 0, 0, 0, 0, 0, 0, 0, 0, 0, 0, 1, 0, 1, 0, 0, 0, 0, 1, 0, 0, 0, 0, 0, 0]\n",
            "[0, 1, 0, 0, 1, 0, 0, 0, 0, 0, 0, 0, 0, 0, 0, 0, 0, 0, 0, 1, 0, 0, 0, 1, 0, 1, 0, 0, 0, 0, 1, 1, 0, 0, 0, 1, 1, 0, 0, 1, 0, 0, 0, 0, 1, 1, 0, 1, 0, 0, 0, 0, 0, 1, 1, 1, 0, 0, 1, 0, 0, 0, 0, 0, 0, 0, 1, 0, 0, 0, 0, 1, 0, 0, 0, 0, 0, 0, 0, 0, 0, 0, 0, 0, 0, 0, 1, 0, 0, 0, 0, 0, 0, 0, 0, 1, 1, 0, 1, 0, 0, 0, 0, 1, 0, 0, 0, 0, 0, 1, 0, 0, 0, 1, 1, 0, 0, 0, 0, 0, 0, 0, 1, 0, 1, 1, 0, 0, 0, 0, 0, 0, 1, 1, 0, 0, 0, 0, 0, 0, 0, 0, 0, 0, 0, 0, 1, 1, 1, 1]\n"
          ],
          "name": "stdout"
        }
      ]
    }
  ]
}